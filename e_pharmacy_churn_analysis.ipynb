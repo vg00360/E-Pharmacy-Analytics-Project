import pandas as pd
from sqlalchemy import create_engine
from urllib.parse import quote_plus
from sklearn.model_selection import train_test_split
from sklearn.pipeline import Pipeline
from sklearn.impute import SimpleImputer
from sklearn.preprocessing import StandardScaler, OneHotEncoder
from sklearn.compose import ColumnTransformer
from sklearn.linear_model import LogisticRegression
from sklearn.metrics import roc_auc_score, classification_report
import joblib

# 1️⃣ Load prepared features from MySQL
user = "root"
password = "Vaibhav@666"
password_encoded = quote_plus(password)
host = "localhost"
port = 3306
database = "epharmacy"
engine = create_engine(f"mysql+pymysql://{user}:{password_encoded}@{host}:{port}/{database}")

df = pd.read_sql("SELECT * FROM customer_features", engine)

# 2️⃣ Prepare features
numeric = ['recency_days','frequency','monetary','avg_order_value','avg_days_between_orders',
           'pct_promo_orders','prescription_rate','tenure_days']
categorical = ['has_chronic_condition','age_group','first_touch_channel']

X = df[numeric + categorical]
y = df['is_churned']

# 3️⃣ Build pipeline & model
num_pipe = Pipeline([('imputer', SimpleImputer(strategy='median')), ('scaler', StandardScaler())])
cat_pipe = Pipeline([('imputer', SimpleImputer(strategy='constant', fill_value='missing')), 
                     ('onehot', OneHotEncoder(handle_unknown='ignore'))])
preprocessor = ColumnTransformer([('num', num_pipe, numeric), ('cat', cat_pipe, categorical)])

model = Pipeline([('prep', preprocessor), 
                  ('clf', LogisticRegression(max_iter=1000, class_weight='balanced'))])

X_train, X_test, y_train, y_test = train_test_split(X, y, test_size=0.2, random_state=42, stratify=y)
model.fit(X_train, y_train)

probs = model.predict_proba(X_test)[:,1]
preds = model.predict(X_test)

print("ROC AUC:", roc_auc_score(y_test, probs))
print(classification_report(y_test, preds))

# 4️⃣ Save model
joblib.dump(model, "churn_model_v1.pkl")

# 5️⃣ Score all customers
df_preds = df[['customer_id']].copy()
df_preds['churn_probability'] = model.predict_proba(df[numeric+categorical])[:,1]
df_preds['churn_pred'] = (df_preds['churn_probability'] > 0.5).astype(int)
df_preds.to_sql('customer_churn_predictions', engine, if_exists='replace', index=False)
